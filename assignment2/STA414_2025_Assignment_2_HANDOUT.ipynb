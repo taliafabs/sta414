{
  "cells": [
    {
      "cell_type": "markdown",
      "metadata": {
        "id": "view-in-github",
        "colab_type": "text"
      },
      "source": [
        "<a href=\"https://colab.research.google.com/github/taliafabs/sta414/blob/main/STA414_2025_Assignment_2.ipynb\" target=\"_parent\"><img src=\"https://colab.research.google.com/assets/colab-badge.svg\" alt=\"Open In Colab\"/></a>"
      ]
    },
    {
      "cell_type": "markdown",
      "metadata": {
        "id": "248_qtulv8jx"
      },
      "source": [
        "# Probabilistic ML: Assignment 2\n",
        "- **Deadline**: Feb 16, 23:59 ET\n",
        "- **Submission**: You need to submit your solutions through Crowdmark, including all your derivations, plots, and your code. You can produce the files however you like (e.g. $\\LaTeX$, Microsoft Word, etc), as long as it is readable. Points will be deducted if we have a hard time reading your solutions or understanding the structure of your code.\n",
        "- **Collaboration policy**: After attempting the problems on an individual basis, you may discuss and work together on the assignment with up to two classmates. However, **you must write your own code and write up your own solutions individually and explicitly name any collaborators** at the top of the homework.\n",
        "\n"
      ]
    },
    {
      "cell_type": "markdown",
      "metadata": {
        "id": "y82CCb3pwLJT"
      },
      "source": [
        "# Q1 - Image Denoising"
      ]
    },
    {
      "cell_type": "markdown",
      "metadata": {
        "id": "zCI65iZNRDuP"
      },
      "source": [
        "In this problem, we will implement the max-product Loopy **belief propagation** (Loopy-BP) method for denoising binary images which you have seen in tutorial 4.\n",
        "We will consider images as matrices of size $\\sqrt{n} \\times \\sqrt{n}$. Each element of the matrix can be either $1$ or $-1$, with $1$ representing white pixels and $-1$ representing black pixels. This is different from the $0/1$ representation commonly used for other CV tasks. This notation will be more convenient when multiplying with pixel values."
      ]
    },
    {
      "cell_type": "markdown",
      "metadata": {
        "id": "0AbNhBClT0R0"
      },
      "source": [
        "### Data preparation\n",
        "Below we provide you with code for loading and preparing the image data."
      ]
    },
    {
      "cell_type": "markdown",
      "metadata": {
        "id": "L6cfep0ywRbF"
      },
      "source": [
        "First, we load a black and white image and convert it into a binary matrix of 1 and -1. So that white pixels have value 1 and black pixels have value -1."
      ]
    },
    {
      "cell_type": "code",
      "execution_count": null,
      "metadata": {
        "id": "1e0odMis14XP",
        "colab": {
          "base_uri": "https://localhost:8080/",
          "height": 468
        },
        "outputId": "19000c7f-cb3a-418c-ef65-a003ddb3b475"
      },
      "outputs": [
        {
          "output_type": "stream",
          "name": "stdout",
          "text": [
            "Requirement already satisfied: wget in /usr/local/lib/python3.11/dist-packages (3.2)\n"
          ]
        },
        {
          "output_type": "execute_result",
          "data": {
            "text/plain": [
              "<matplotlib.image.AxesImage at 0x7b73d8789950>"
            ]
          },
          "metadata": {},
          "execution_count": 4
        },
        {
          "output_type": "display_data",
          "data": {
            "text/plain": [
              "<Figure size 640x480 with 1 Axes>"
            ],
            "image/png": "[encoded data removed]"
          },
          "metadata": {}
        }
      ],
      "source": [
        "!pip install wget\n",
        "\n",
        "import numpy as np\n",
        "import matplotlib.pyplot as plt\n",
        "import matplotlib.image as mpimg\n",
        "import PIL.Image as Image\n",
        "from os.path import exists\n",
        "from wget import download\n",
        "from tqdm import tqdm\n",
        "\n",
        "filename, url = \"trc1l3gqu9651.png\", \"https://i.redd.it/trc1l3gqu9651.png\"\n",
        "\n",
        "def load_img():\n",
        "    if not exists(filename):\n",
        "        download(url)\n",
        "\n",
        "    with open(filename, 'rb') as fp:\n",
        "        img2 = Image.open(fp).convert('L')\n",
        "        img2 = img2.resize((96, 96), Image.LANCZOS)\n",
        "        img2 = np.array(img2)\n",
        "    return (img2 > 120) * 2.0 - 1\n",
        "\n",
        "img_true = load_img()\n",
        "plt.imshow(img_true, cmap='gray')"
      ]
    },
    {
      "cell_type": "markdown",
      "metadata": {
        "id": "wdn-UR3f1_Lk"
      },
      "source": [
        "To introduce noise into the image, for each pixel, swap its value between 1 and -1 with rate 0.2.\n"
      ]
    },
    {
      "cell_type": "code",
      "execution_count": null,
      "metadata": {
        "id": "6EBQQa1h2m8e",
        "colab": {
          "base_uri": "https://localhost:8080/",
          "height": 450
        },
        "outputId": "3e147446-c3ba-4ae8-fb86-742f87ce7659"
      },
      "outputs": [
        {
          "output_type": "execute_result",
          "data": {
            "text/plain": [
              "<matplotlib.image.AxesImage at 0x7b73d8819450>"
            ]
          },
          "metadata": {},
          "execution_count": 5
        },
        {
          "output_type": "display_data",
          "data": {
            "text/plain": [
              "<Figure size 640x480 with 1 Axes>"
            ],
            "image/png": "[encoded data removed]"
          },
          "metadata": {}
        }
      ],
      "source": [
        "def gen_noisyimg(img, noise=.05):\n",
        "    swap = np.random.binomial(1, noise, size=img.shape)\n",
        "    return img * (1 - 2 * swap)\n",
        "\n",
        "noise = 0.2\n",
        "img_noisy = gen_noisyimg(img_true, noise)\n",
        "plt.imshow(img_noisy, cmap='gray')"
      ]
    },
    {
      "cell_type": "markdown",
      "metadata": {
        "id": "Ea_81p9xY5Ux"
      },
      "source": [
        "### The Loopy BP algorithm\n"
      ]
    },
    {
      "cell_type": "markdown",
      "metadata": {
        "id": "UfJKaB1mqYY-"
      },
      "source": [
        "Recall from lecture and tutorial, the Loopy-BP algorithm iteratively updates the messages of each node through a sum-product or max-product operation. The sum-product operation computes the joint inbound message through multiplication, and then marginalizes the factors through summation. This is in contrast to the max-product BP, which computes the maximum a-posteriori (MAP) value for each variable through taking the maximum over variables. In this question, we will implement the **max-product** BP to obtain the MAP estimate\n",
        "\n",
        "Initialization:\n",
        "\n",
        "For discrete node $x_j$ with $2$ possible states, $m_{i \\rightarrow j}$ can be written as a $2$ dimensional real vector $\\mathrm{m}_{i,j}$ with $m_{i \\rightarrow j}(x_j) =  \\mathrm{m}_{i,j}[index(x_j)]$. We initialize them uniformly to $m_{i \\rightarrow j}(x_j) = 1/2$.\n",
        "\n",
        "(Aside: for continuous cases, $m_{i \\rightarrow j}(x_j)$ is a real valued function of $x_j$. We only need to deal with the discrete case here.)\n",
        "\n",
        "For a number of iterations:\n",
        "\n",
        "&nbsp;&nbsp;&nbsp;&nbsp;For node $x_j$ in $\\{x_s\\}_{s=1}^n$:  \n",
        "1. Compute the product of inbound messages from neighbours of $x_j$:\n",
        "$$\\prod_{k \\in N(j) \\not = i} m_{k \\rightarrow j}(x_j)$$\n",
        "\n",
        "2. Compute potentials $\\psi_j(x_j) = \\exp (\\beta x_j y_j)$ and $\\psi_{ij}(x_i,x_j) = \\exp(J x_i x_j)$. This expression specifically holds when $x \\in \\{-1,+1\\}$.\n",
        "\n",
        "3. Maximize over $x_j = \\{-1, +1\\}$ to get $m_{j \\rightarrow i}(x_i)$:\n",
        "$$\n",
        "m_{j \\rightarrow i}(x_i) = \\max_{x_j}\\psi_j(x_j)\\psi_{ij}(x_i, x_j)\\prod_{k \\in N(j) \\not = i} m_{k \\rightarrow j}(x_j)\n",
        "$$\n",
        "4. Normalize messages for stability $m_{j \\rightarrow i}(x_i) =m_{j \\rightarrow i}(x_i)/\\sum_{x_i}m_{j \\rightarrow i}(x_i)$.\n",
        "\n",
        "Compute beliefs after message passing is done.\n",
        "$$\n",
        "b(x_i) \\propto \\psi_i(x_i) \\prod_{j \\in N(i)} m_{j \\rightarrow i}(x_i).\n",
        "$$\n"
      ]
    },
    {
      "cell_type": "markdown",
      "metadata": {
        "id": "OnK7tMk7o0a7"
      },
      "source": [
        "You'll be tasked to perform steps 1-3 in the iterations and computing the beliefs. We will provide you with helper functions for initialization, finding neighbours, and normalization."
      ]
    },
    {
      "cell_type": "markdown",
      "metadata": {
        "id": "ecxN71ic4HHM"
      },
      "source": [
        "### Initialization\n",
        "Initialize the message between neighbor pixels uniformly as $m_{j→i}(x_i) = 1/k$. Since each pixel can only be 1 or -1, message has two values $m_{j→i}(1)$ and $m_{j→i}(-1)$. We also initialize hyperparameters $J$ and $\\beta$."
      ]
    },
    {
      "cell_type": "code",
      "execution_count": null,
      "metadata": {
        "id": "kdvYSWEP6KBn"
      },
      "outputs": [],
      "source": [
        "y = img_noisy.reshape([img_true.size, ])\n",
        "num_nodes = len(y)\n",
        "init_message = np.zeros([2, num_nodes, num_nodes]) + .5\n",
        "J = 1.0\n",
        "beta = 1.0"
      ]
    },
    {
      "cell_type": "markdown",
      "metadata": {
        "id": "RH_-BYgQ6U_X"
      },
      "source": [
        "Find the neighboring pixels around a given pixel, which will be used for BP updates"
      ]
    },
    {
      "cell_type": "code",
      "execution_count": null,
      "metadata": {
        "id": "BU-WR4d_6b8Q"
      },
      "outputs": [],
      "source": [
        "def get_neighbors_of(node):\n",
        "    \"\"\"\n",
        "    arguments:\n",
        "     int node:  in [0,num_nodes) index of node to query\n",
        "    globals:\n",
        "     int num_nodes: number of nodes\n",
        "    return: set(int) indices of neighbors of queried node\n",
        "    \"\"\"\n",
        "    neighbors = []\n",
        "    m = int(np.sqrt(num_nodes))\n",
        "    if (node + 1) % m != 0:\n",
        "        neighbors += [node + 1]\n",
        "    if node % m != 0:\n",
        "        neighbors += [node - 1]\n",
        "    if node + m < num_nodes:\n",
        "        neighbors += [node + m]\n",
        "    if node - m >= 0:\n",
        "        neighbors += [node - m]\n",
        "\n",
        "    return set(neighbors)"
      ]
    },
    {
      "cell_type": "markdown",
      "metadata": {
        "id": "csfddvHbrJqN"
      },
      "source": [
        "## Q1.1 Implement message passing in BP [20 points]"
      ]
    },
    {
      "cell_type": "markdown",
      "metadata": {
        "id": "jhnSTVvsrZco"
      },
      "source": [
        "Implement the function `get_message()` that computes the message passed from node j to node i: $$\n",
        "m_{j \\rightarrow i}(x_i) = \\max_{x_j}\\psi_j(x_j)\\psi_{ij}(x_i, x_j)\\prod_{k \\in N(j) \\not = i} m_{k \\rightarrow j}(x_j)\n",
        "$$\n",
        "`get_message()` will be used by (provided below) `step_bp()` to perform one iteration of loopy-BP: it first normalizes the returned message from `get_message()`, and then updates the message with momentum `1.0 - step`."
      ]
    },
    {
      "cell_type": "code",
      "execution_count": null,
      "metadata": {
        "id": "N-8YaDcsAule"
      },
      "outputs": [],
      "source": [
        "def get_message(node_from, node_to, messages):\n",
        "    \"\"\"\n",
        "    arguments:\n",
        "     int node_from: in [0,num_nodes) index of source node\n",
        "     int node_from: in [0,num_nodes) index of target node\n",
        "     float array messages: (2, num_nodes, num_nodes), messages[:,j,i] is message\n",
        "                           from node j to node i\n",
        "    reads globals:\n",
        "     float array y: (num_nodes,) observed pixel values\n",
        "     float J: clique coupling strength constant\n",
        "     float beta: observation to true pixel coupling strength constant\n",
        "    return: array(float) of shape (2,) un-normalized message from node_from to\n",
        "    node_to\n",
        "    \"\"\"\n",
        "    #TODO: implement your function here\n",
        "    # start by getting neighbors of node_from\n",
        "    neighbors = get_neighbors_of(node_from)\n",
        "    m_new = np.zeros([2, ])\n",
        "    pass\n",
        "\n",
        "\n",
        "def step_bp(step, messages):\n",
        "    \"\"\"\n",
        "    arguments:\n",
        "     float step: step size to update messages\n",
        "    return\n",
        "     float array messages: (2, num_nodes, num_nodes), messages[:,j,i] is message\n",
        "                           from node j to node i\n",
        "    \"\"\"\n",
        "    for node_from in range(num_nodes):\n",
        "        for node_to in get_neighbors_of(node_from):\n",
        "            m_new = get_message(node_from, node_to, messages)\n",
        "            # normalize\n",
        "            m_new = m_new / np.sum(m_new)\n",
        "\n",
        "            messages[:, node_from, node_to] = step * m_new + (1. - step) * \\\n",
        "                messages[:, node_from, node_to]\n",
        "    return messages"
      ]
    },
    {
      "cell_type": "markdown",
      "metadata": {
        "id": "WT0uYbgPBkmc"
      },
      "source": [
        "Then, run loopy BP update for 10 iterations:"
      ]
    },
    {
      "cell_type": "code",
      "execution_count": null,
      "metadata": {
        "id": "OgyCPXzZB3Cr"
      },
      "outputs": [],
      "source": [
        "num_iter = 10\n",
        "step = 0.5\n",
        "for it in range(num_iter):\n",
        "    init_message = step_bp(step, init_message)\n",
        "    print(it + 1,'/',num_iter)"
      ]
    },
    {
      "cell_type": "markdown",
      "metadata": {
        "id": "LjZiEu3Lx9yq"
      },
      "source": [
        "## Q1.2 Computing belief from messages [10 points]"
      ]
    },
    {
      "cell_type": "markdown",
      "metadata": {
        "id": "GXScm4ptCJVt"
      },
      "source": [
        "Now, calculate the unnormalized belief for each pixel\n",
        "$$ \\tilde{b}(x_i) = \\psi_i(x_i) ∏_{j \\in N(i)}m_{j→i}(x_i),$$\n",
        "and normalize the belief across all pixels\n",
        "$$ b(x_i) = \\frac{\\tilde{b}(x_i)}{∑_{x_j}\\tilde{b}(x_j)}.$$"
      ]
    },
    {
      "cell_type": "code",
      "execution_count": null,
      "metadata": {
        "id": "IpxG9ht5DVEw"
      },
      "outputs": [],
      "source": [
        "def update_beliefs(messages):\n",
        "    \"\"\"\n",
        "    arguments:\n",
        "    float array messages: (2, num_nodes, num_nodes), messages[:,j,i] is message\n",
        "                           from node j to node i\n",
        "    reads globals:\n",
        "     float beta: observation to true pixel coupling strength constant\n",
        "     float array y: (num_nodes,) observed pixel values\n",
        "    returns:\n",
        "     float array beliefs: (2, num_nodes), beliefs[:,i] is the belief of node i\n",
        "    \"\"\"\n",
        "    beliefs = np.zeros([2, num_nodes])\n",
        "    for node in range(num_nodes):\n",
        "        #TODO: implement belief calculation here\n",
        "\n",
        "    return beliefs\n",
        "\n",
        "# call update_beliefs() once\n",
        "beliefs = update_beliefs(init_message)"
      ]
    },
    {
      "cell_type": "markdown",
      "metadata": {
        "id": "LQaLL3IHEFQJ"
      },
      "source": [
        "Finally, to get the denoised image, we use 0.5 as the threshold and consider pixel with belief less than threshold as black while others as white, which is the same as choosing the pixel with maximum probability"
      ]
    },
    {
      "cell_type": "code",
      "execution_count": null,
      "metadata": {
        "id": "tUy2g0RrEauz"
      },
      "outputs": [],
      "source": [
        "pred = 2. * ((beliefs[0, :] > .5) + .0) - 1.\n",
        "img_out = pred.reshape(img_true.shape)\n",
        "\n",
        "plt.imshow(np.hstack([img_true, img_noisy, img_out]), cmap='gray')"
      ]
    },
    {
      "cell_type": "markdown",
      "metadata": {
        "id": "wkARhGaI_DMS"
      },
      "source": [
        "## Q1.3 Momentum in belief propagation [10 points]\n",
        "In the sample code provided above, we performed message update with a momentum parameter `step`. In this question, you will experimentally investigate how momentum affects the characteristics of convergence.\n",
        "\n",
        "\n"
      ]
    },
    {
      "cell_type": "markdown",
      "metadata": {
        "id": "bVUUENILADnN"
      },
      "source": [
        "### Q1.3.a [5 points]\n",
        "Complete the function `test_trajectory` below to obtain predicted image after each step of message passing. Return predicted images as list."
      ]
    },
    {
      "cell_type": "code",
      "execution_count": null,
      "metadata": {
        "id": "QuxFaVTT_C5Q"
      },
      "outputs": [],
      "source": [
        "def test_trajectory(step_size, max_step=10):\n",
        "    \"\"\"\n",
        "    step_size: step_size to update messages in each iteration\n",
        "    max_step: number of steps\n",
        "    \"\"\"\n",
        "    # re-initialize each time\n",
        "    messages = np.zeros([2, num_nodes, num_nodes]) + .5\n",
        "    images = []\n",
        "\n",
        "    # solution:\n",
        "\n",
        "    return images"
      ]
    },
    {
      "cell_type": "markdown",
      "metadata": {
        "id": "twJ96AkWGhyn"
      },
      "source": [
        "### Q1.3.b [5 points]\n",
        "Use test trajectory to create image serieses for `step size` 0.1, 0.3, and 1.0, each with 10 steps. Display these images with `plot_series' provided below.\n",
        "\n",
        "In the textbox below: 1. Comment on what happens when a large step size is used for too many iterations. 2. How would you adjust other hyperparameters to counteract this effect?"
      ]
    },
    {
      "cell_type": "code",
      "execution_count": null,
      "metadata": {
        "id": "LE9EOa_wGoDy"
      },
      "outputs": [],
      "source": [
        "def plot_series(images):\n",
        "  n = len(images)\n",
        "  fig, ax = plt.subplots(1, n)\n",
        "  for i in range(n):\n",
        "    ax[i].imshow(images[i], cmap='gray')\n",
        "    ax[i].set_axis_off()\n",
        "  fig.set_figwidth(10)\n",
        "  fig.show()\n",
        "\n",
        "#Solution:\n",
        "\n"
      ]
    },
    {
      "cell_type": "markdown",
      "metadata": {
        "id": "1g-syMv4NqNO"
      },
      "source": [
        "### Response to 1.3.b (Enter your response below):"
      ]
    },
    {
      "cell_type": "markdown",
      "metadata": {
        "id": "70Gwz5oeURqA"
      },
      "source": [
        "## Q1.4 Noise level and the hyperparameter $J$ [10 points]\n",
        "In this question, we will study how the level of noise in the image influences our choice in the hyperparameter $J$."
      ]
    },
    {
      "cell_type": "markdown",
      "metadata": {
        "id": "d3xc-hWyYsbR"
      },
      "source": [
        "### Q1.4.a [5 points]\n",
        "First, generate and display images with noise of $0.05$, $0.3$.\n",
        "In the text box below, comment on what would happen if noise was set to $0.5$ and $1.0$"
      ]
    },
    {
      "cell_type": "code",
      "execution_count": null,
      "metadata": {
        "id": "Rx7nVjO3ZaLB"
      },
      "outputs": [],
      "source": [
        "# Solution\n"
      ]
    },
    {
      "cell_type": "markdown",
      "metadata": {
        "id": "4RFharDeZQEv"
      },
      "source": [
        "### Response to 1.4.a (enter your response below):\n",
        "Solution: at 0.5, the image would be purely noise. at 1.0, the image would be inverted."
      ]
    },
    {
      "cell_type": "markdown",
      "metadata": {
        "id": "t7AWsNqGaQYt"
      },
      "source": [
        "### Q1.4.b [5 points]\n",
        "Now, perform image denoising on images with noise levels $0.05$ and $0.3$ using $J=0.1$, $J=0.5$, $J=1.0$, and $J=5.0$. Set step size to 0.8 and max_step to 5. Plot the denoised images (if reusing `test_trajectory`, you should plot 8 image serieses).\n",
        "In text box below, comment on what you observe and provide a brief explanation on why this might occur."
      ]
    },
    {
      "cell_type": "code",
      "execution_count": null,
      "metadata": {
        "id": "FcEDdqlhFsX9"
      },
      "outputs": [],
      "source": [
        "# Solution\n"
      ]
    },
    {
      "cell_type": "markdown",
      "metadata": {
        "id": "BKf1FdlOcA7w"
      },
      "source": [
        "### Response to 1.4.b (enter your response below):\n"
      ]
    },
    {
      "cell_type": "markdown",
      "metadata": {
        "id": "pznCr4ORzMxz"
      },
      "source": [
        "# Question 2: Markov chain Monte Carlo in the TrueSkill model\n",
        "\n",
        "The goal of this question is to get you familiar with the basics of\n",
        "Bayesian inference in medium-sized models with continuous latent variables, and the basics of Langevin and Hamiltonian Monte Carlo.\n",
        "\n",
        "## Background\n",
        "\n",
        "We'll implement a variant of the [TrueSkill](http://papers.nips.cc/paper/3079-trueskilltm-a-bayesian-skill-rating-system.pdf) model, a player ranking system for competitive games originally developed for Halo 2.\n",
        "It is a generalization of the Elo rating system in Chess.\n",
        "\n",
        "This assignment is based on [this one](https://mlg.eng.cam.ac.uk/teaching/4f13/2324/) developed by Carl Rasmussen at Cambridge for his course on probabilistic machine learning.\n",
        "\n",
        "## Model definition\n",
        "We'll consider a slightly simplified version of the original trueskill model.\n",
        "We assume that each player has a true, but unknown skill $z_i \\in \\mathbb{R}$.\n",
        "We use $N$ to denote the number of players.\n",
        "\n",
        "### The prior:\n",
        "The prior over each player's skill is a standard normal distribution, and all player's skills are *a priori* independent.\n",
        "\n",
        "### The likelihood:\n",
        "For each observed game, the probability that player $i$ beats player $j$, given the player's skills $z_A$ and $z_B$, is:\n",
        "$$p(A \\,\\, \\text{beat} \\,\\, B | z_A, z_B) = \\sigma(z_A - z_B)$$\n",
        "where\n",
        "$$\\sigma(y) = \\frac{1}{1 + \\exp(-y)}$$\n",
        "We chose this function simply because it's close to zero or one when the player's skills are very different, and equals one-half when the player skills are the same.  This likelihood function is the only thing that gives meaning to the latent skill variables $z_1 \\dots z_N$.\n",
        "\n",
        "There can be more than one game played between a pair of players. The outcome of each game is independent given the players' skills.\n",
        "We use $M$ to denote the number of games.\n"
      ]
    },
    {
      "cell_type": "code",
      "execution_count": null,
      "metadata": {
        "id": "TXAnW7vS1kBA",
        "colab": {
          "base_uri": "https://localhost:8080/"
        },
        "outputId": "0c4efa60-e56e-4f87-f1a2-800203bd3a3b"
      },
      "outputs": [
        {
          "output_type": "stream",
          "name": "stdout",
          "text": [
            "Collecting wget\n",
            "  Downloading wget-3.2.zip (10 kB)\n",
            "  Preparing metadata (setup.py) ... \u001b[?25l\u001b[?25hdone\n",
            "Building wheels for collected packages: wget\n",
            "  Building wheel for wget (setup.py) ... \u001b[?25l\u001b[?25hdone\n",
            "  Created wheel for wget: filename=wget-3.2-py3-none-any.whl size=9656 sha256=1468075f35fb8f9eb0a8d03073e0eb593dfd4c3b3fa6dbc98a8f158cf0124573\n",
            "  Stored in directory: /root/.cache/pip/wheels/40/b3/0f/a40dbd1c6861731779f62cc4babcb234387e11d697df70ee97\n",
            "Successfully built wget\n",
            "Installing collected packages: wget\n",
            "Successfully installed wget-3.2\n"
          ]
        }
      ],
      "source": [
        "!pip install wget\n",
        "import os\n",
        "import os.path\n",
        "\n",
        "import matplotlib.pyplot as plt\n",
        "import wget\n",
        "\n",
        "import pandas as pd\n",
        "\n",
        "\n",
        "import numpy as np\n",
        "from scipy.stats import norm\n",
        "import scipy.io\n",
        "import scipy.stats\n",
        "import torch\n",
        "import random\n",
        "from torch.distributions.normal import Normal\n",
        "\n",
        "from functools import partial\n",
        "\n",
        "import matplotlib.pyplot as plt"
      ]
    },
    {
      "cell_type": "markdown",
      "metadata": {
        "id": "TwWGMLQnyOzq"
      },
      "source": [
        "## Q 2.1 Implementing the TrueSkill Model [10 points]"
      ]
    },
    {
      "cell_type": "markdown",
      "metadata": {
        "id": "RSyMyS3u4BmU"
      },
      "source": [
        "###\tQ 2.1.a [4 points]\n",
        "Implement a function $\\texttt{log_joint_prior}$ that computes the log of the prior, jointly evaluated over all player's skills.\n",
        "\n",
        "  Specifically, given a $K \\times N$ array where each row is a setting of the skills for all $N$ players, it returns a $K \\times 1$ array, where each row contains a scalar giving the log-prior for that set of skills."
      ]
    },
    {
      "cell_type": "code",
      "execution_count": null,
      "metadata": {
        "id": "YwzYPxUm4Nrp"
      },
      "outputs": [],
      "source": [
        "def log_joint_prior(zs_array):\n",
        "  # TODO\n",
        "  log_prior = np.zeros(zs_array.shape[0])\n",
        "  for i in range(zs_array.shape[0]):\n",
        "    log_prior[i] = np.sum(norm.logpdf(zs_array[i]))\n",
        "  return log_prior"
      ]
    },
    {
      "cell_type": "markdown",
      "metadata": {
        "id": "EeLyjDNG4N9k"
      },
      "source": [
        "### Q 2.1.b [6 points]\n",
        "\n",
        "Implement two functions $\\texttt{logp_a_beats_b}$ and $\\texttt{logp_b_beats_a}$.\n",
        "\n",
        "Given a pair of skills $z_a$ and $z_b$, $\\texttt{logp_a_beats_b}$ evaluates the log-likelihood that player with skill $z_a$ beat player with skill $z_b$ under the model detailed above, and $\\texttt{logp_b_beats_a}$ is vice versa.\n",
        "\n",
        "To ensure numerical stability, use the function $torch.logaddexp$\n"
      ]
    },
    {
      "cell_type": "code",
      "execution_count": null,
      "metadata": {
        "id": "QguZaNGP4OMs"
      },
      "outputs": [],
      "source": [
        "def logp_a_beats_b(z_a, z_b):\n",
        "  # Hint: Use torch.logaddexp\n",
        "  # TODO\n",
        "  pass\n",
        "\n",
        "def logp_b_beats_a(z_a, z_b):\n",
        "  # Hint: Use torch.logaddexp\n",
        "  # TODO\n",
        "  pass"
      ]
    },
    {
      "cell_type": "markdown",
      "metadata": {
        "id": "OM30M_GN4O6V"
      },
      "source": [
        "## Q 2.2 Examining the posterior for only two players and toy data [10 points]\n",
        "To get a feel for this model, we'll first consider the case where we only have 2 players, $A$ and $B$.\n",
        "We'll examine how the prior and likelihood interact when conditioning on different sets of games.\n",
        "\n",
        "Provided in the starter code is a function $\\texttt{plot_isocontours}$ which evaluates a provided function on a grid of $z_A$ and $z_B$'s and plots the isocontours of that function.\n",
        "There is also a function $\\texttt{plot_2d_fun}$.\n",
        "We have included an example for how you can use these functions.\n",
        "\n"
      ]
    },
    {
      "cell_type": "code",
      "execution_count": null,
      "metadata": {
        "id": "7lGCtaEe7uAP"
      },
      "outputs": [],
      "source": [
        "# Plotting helper functions\n",
        "def plot_isocontours(ax, func, steps=100):\n",
        "    x = torch.linspace(-4, 4, steps=steps)\n",
        "    y = torch.linspace(-4, 4, steps=steps)\n",
        "    X, Y = torch.meshgrid(x, y, indexing=\"ij\")\n",
        "    Z = func(X, Y)\n",
        "    cs = plt.contour(X, Y, Z )\n",
        "    plt.clabel(cs, inline=1, fontsize=10)\n",
        "    ax.set_yticks([])\n",
        "    ax.set_xticks([])\n",
        "\n",
        "def plot_2d_fun(f, x_axis_label=\"\", y_axis_label=\"\", scatter_pts=None):\n",
        "    # This is the function your code should call.\n",
        "    # f() should take two arguments.\n",
        "    fig = plt.figure(figsize=(8,8), facecolor='white')\n",
        "    ax = fig.add_subplot(111, frameon=False)\n",
        "    ax.set_xlabel(x_axis_label)\n",
        "    ax.set_ylabel(y_axis_label)\n",
        "    plot_isocontours(ax, f)\n",
        "    if scatter_pts is not None:\n",
        "      plt.scatter(scatter_pts[:,0], scatter_pts[:, 1])\n",
        "    plt.plot([4, -4], [4, -4], 'b--')   # Line of equal skill\n",
        "    plt.show(block=True)\n",
        "    plt.draw()\n"
      ]
    },
    {
      "cell_type": "markdown",
      "metadata": {
        "id": "jIfAUAs77YFA"
      },
      "source": [
        "### Q 2.2.a [2 point]\n",
        "For two players $A$ and $B$, plot the isocontours of the joint prior over their skills.  Also plot the line of equal skill, $z_A = z_B$. Use the helper function `plot_2d_fun` above to plot.\n",
        "\n",
        "According to the prior, what's the chance that player A is better than player B?"
      ]
    },
    {
      "cell_type": "code",
      "execution_count": null,
      "metadata": {
        "id": "MifKIY8E4O_-"
      },
      "outputs": [],
      "source": [
        "def log_prior_over_2_players(z1, z2):\n",
        "  # TODO\n",
        "  pass\n",
        "\n",
        "def prior_over_2_players(z1, z2):\n",
        "  return torch.exp(log_prior_over_2_players(z1, z2))\n",
        "\n",
        "plot_2d_fun(prior_over_2_players, \"Player A Skill\", \"Player B Skill\")"
      ]
    },
    {
      "cell_type": "markdown",
      "metadata": {
        "id": "DifTVtfb4PFw"
      },
      "source": [
        "### Q 2.2.b [3 points]\n",
        "\n",
        "Plot isocountours of the joint posterior over $z_A$ and $z_B$ given that player A\n",
        "beat player B in one match.  Since the contours don't depend on the normalization\n",
        "constant, you can simply plot the isocontours of the log of joint distribution of\n",
        "$p(z_A, z_B | \\text{A beat B})$. Also plot the line of equal skill, $z_A = z_B$.\n",
        "\n",
        "To think about: According to this posterior, which player is likely to have higher skill?"
      ]
    },
    {
      "cell_type": "code",
      "execution_count": null,
      "metadata": {
        "id": "1Pc0ywn-4PLj"
      },
      "outputs": [],
      "source": [
        "def log_posterior_A_beat_B(z1, z2):\n",
        "  # TODO: Combine the prior for two players with the likelihood for A beat B.\n",
        "  # You might want to use the log_prior_over_2_players function from above.\n",
        "  pass\n",
        "\n",
        "def posterior_A_beat_B(z1, z2):\n",
        "  return torch.exp(log_posterior_A_beat_B(z1, z2))\n",
        "\n",
        "plot_2d_fun(posterior_A_beat_B, \"Player A Skill\", \"Player B Skill\")\n",
        "# Note that the posterior probabilities shown are unnormalized"
      ]
    },
    {
      "cell_type": "markdown",
      "metadata": {
        "id": "mVyuktMfhnnR"
      },
      "source": [
        "### Q 2.2.c [2 point]\n",
        "\n",
        "Plot isocountours of the joint posterior over $z_A$ and $z_B$ given that\n",
        "5 matches were played, and player A beat player B in all matches.\n",
        "Also plot the line of equal skill, $z_A = z_B$.\n",
        "\n",
        "To think about: According to this posterior, is it plausible that player B is more skilled than player A?"
      ]
    },
    {
      "cell_type": "code",
      "execution_count": null,
      "metadata": {
        "id": "7jRN4IQihx06"
      },
      "outputs": [],
      "source": [
        "def log_posterior_A_beat_B_5_times(z1, z2):\n",
        "  # TODO: Combine the prior for two players with the likelihood for A beat B.\n",
        "  # You might want to use your log_prior_over_2_players function.\n",
        "  pass\n",
        "\n",
        "def posterior_A_beat_B_5_times(z1, z2):\n",
        "  return torch.exp(log_posterior_A_beat_B_5_times(z1, z2))\n",
        "\n",
        "plot_2d_fun(posterior_A_beat_B_5_times, \"Player A Skill\", \"Player B Skill\")"
      ]
    },
    {
      "cell_type": "markdown",
      "metadata": {
        "id": "gNS1NGR7hycx"
      },
      "source": [
        "### Q 2.2.d [3 point]\n",
        "\n",
        "Plot isocontours of the joint posterior over $z_A$ and $z_B$ given that\n",
        "10 matches were played, and each player beat the other 5 times.\n",
        "Also plot the line of equal skill, $z_A = z_B$.\n",
        "\n",
        "To think about: According to this posterior, is it likely that one player is much better than another?  Is it plausible that both players are better than average?  Worse than average?"
      ]
    },
    {
      "cell_type": "code",
      "execution_count": null,
      "metadata": {
        "id": "IuNG2H9-PA6x"
      },
      "outputs": [],
      "source": [
        "def log_posterior_beat_each_other_5_times(z1, z2):\n",
        "  # TODO: Combine the prior for two players with the likelihood for A beat B.\n",
        "  # You might want to use your log_prior_over_2_players function from above.\n",
        "  pass\n",
        "\n",
        "def posterior_beat_each_other_5_times(z1, z2):\n",
        "  return torch.exp(log_posterior_beat_each_other_5_times(z1, z2))\n",
        "\n",
        "plot_2d_fun(posterior_beat_each_other_5_times, \"Player A Skill\", \"Player B Skill\")"
      ]
    },
    {
      "cell_type": "markdown",
      "metadata": {
        "id": "iK7FpPFX4PQH"
      },
      "source": [
        "## Q 2.3 Hamiltonian and Langevin Monte Carlo on Two Players and Toy Data [8 points]\n",
        "\n",
        "One nice thing about a Bayesian approach is that it separates the model specification from the approximate inference strategy.\n",
        "The original Trueskill paper from 2007 used message passing.\n",
        "Carl Rasmussen's assignment uses Gibbs sampling.\n",
        "\n",
        "In this question, we will approximate posterior distributions with gradient-based Hamiltonian and Langevin Monte Carlo.\n",
        "\n",
        "In the next assignment, we'll use gradient-based stochastic variational inference, which wasn't invented until around 2014.\n"
      ]
    },
    {
      "cell_type": "code",
      "source": [
        "random.seed(42)\n",
        "torch.manual_seed(42)"
      ],
      "metadata": {
        "id": "NQyPfklJ3KPD"
      },
      "execution_count": null,
      "outputs": []
    },
    {
      "cell_type": "code",
      "execution_count": null,
      "metadata": {
        "id": "ahZH12p-4PU1"
      },
      "outputs": [],
      "source": [
        "# Hamiltonian Monte Carlo\n",
        "from tqdm import trange, tqdm_notebook  # Progress meters\n",
        "\n",
        "def leapfrog(params_t0, momentum_t0, stepsize, logprob_grad_fun):\n",
        "  # Performs a reversible update of parameters and momentum\n",
        "  # See https://en.wikipedia.org/wiki/Leapfrog_integration\n",
        "  momentum_thalf = momentum_t0    + 0.5 * stepsize * logprob_grad_fun(params_t0)\n",
        "  params_t1 =      params_t0      +       stepsize * momentum_thalf\n",
        "  momentum_t1 =    momentum_thalf + 0.5 * stepsize * logprob_grad_fun(params_t1)\n",
        "  return params_t1, momentum_t1\n",
        "\n",
        "\n",
        "def iterate_leapfrogs(theta, v, stepsize, num_leapfrog_steps, grad_fun):\n",
        "  for i in range(0, num_leapfrog_steps):\n",
        "    theta, v = leapfrog(theta, v, stepsize, grad_fun)\n",
        "  return theta, v\n",
        "\n",
        "def metropolis_hastings(state1, state2, log_posterior):\n",
        "  # Compares the log_posterior at two values of parameters,\n",
        "  # and accepts the new values proportional to the ratio of the posterior\n",
        "  # probabilities.\n",
        "  accept_prob = torch.exp(log_posterior(state2) - log_posterior(state1))\n",
        "  if random.random() < accept_prob:\n",
        "    return state2  # Accept\n",
        "  else:\n",
        "    return state1  # Reject\n",
        "\n",
        "def draw_samples_hmc(num_params, stepsize, num_leapfrog_steps, n_samples, log_posterior):\n",
        "  theta = torch.zeros(num_params)\n",
        "\n",
        "  def log_joint_density_over_params_and_momentum(state):\n",
        "    params, momentum = state\n",
        "    m = Normal(0., 1.)\n",
        "    return m.log_prob(momentum).sum(axis=-1) + log_posterior(params)\n",
        "\n",
        "  def grad_fun(zs):\n",
        "    zs = zs.detach().clone()\n",
        "    zs.requires_grad_(True)\n",
        "    y = log_posterior(zs)\n",
        "    y.backward()\n",
        "    return zs.grad\n",
        "\n",
        "\n",
        "\n",
        "  sampleslist = []\n",
        "  for i in trange(0, n_samples):\n",
        "    sampleslist.append(theta)\n",
        "\n",
        "    momentum = torch.normal(0, 1, size = np.shape(theta))\n",
        "\n",
        "    theta_new, momentum_new = iterate_leapfrogs(theta, momentum, stepsize, num_leapfrog_steps, grad_fun)\n",
        "\n",
        "    theta, momentum = metropolis_hastings((theta, momentum), (theta_new, momentum_new), log_joint_density_over_params_and_momentum)\n",
        "  return torch.stack((sampleslist))\n"
      ]
    },
    {
      "cell_type": "markdown",
      "metadata": {
        "id": "vJveURu04PZH"
      },
      "source": [
        "Using samples generated by HMC, we can approximate the joint posterior where we observe player A winning 1 game."
      ]
    },
    {
      "cell_type": "code",
      "execution_count": null,
      "metadata": {
        "id": "E0OEf6ungefm"
      },
      "outputs": [],
      "source": [
        "# Hyperparameters\n",
        "num_players = 2\n",
        "num_leapfrog_steps = 20\n",
        "n_samples = 2500\n",
        "stepsize = 0.01\n",
        "\n",
        "def log_posterior_a(zs):\n",
        "  z1, z2 = zs[0], zs[1]\n",
        "  return log_posterior_A_beat_B(z1, z2)\n",
        "\n",
        "samples_a = draw_samples_hmc(num_players, stepsize, num_leapfrog_steps, n_samples, log_posterior_a)\n",
        "plot_2d_fun(posterior_A_beat_B, \"Player A Skill\", \"Player B Skill\", samples_a)"
      ]
    },
    {
      "cell_type": "markdown",
      "metadata": {
        "id": "C6OMmOzwge6r"
      },
      "source": [
        "### Q 2.3.a [2 point]\n",
        "\n",
        "Using samples generated by HMC, approximate the joint posterior where we observe player A winning 5 games against player B.  Hint:  You can re-use the code from when you plotted the isocontours."
      ]
    },
    {
      "cell_type": "code",
      "execution_count": null,
      "metadata": {
        "id": "VrgIHAACgfJO"
      },
      "outputs": [],
      "source": [
        "# Hyperparameters\n",
        "num_players = 2\n",
        "num_leapfrog_steps = 20\n",
        "n_samples = 2500\n",
        "stepsize = 0.01\n",
        "\n",
        "\n",
        "def log_posterior_b(zs):\n",
        "  # TODO\n",
        "  pass\n",
        "\n",
        "\n",
        "# TODO Run HMC and plot the posterior contour and the samples\n",
        "# samples_b = ...\n",
        "# plot"
      ]
    },
    {
      "cell_type": "markdown",
      "metadata": {
        "id": "lWY2rL6rgfYh"
      },
      "source": [
        "### Q 2.3.b [2 point]\n",
        "\n",
        "Using samples generated by HMC, approximate the joint posterior where we observe player A winning 5 games and player B winning 5 games."
      ]
    },
    {
      "cell_type": "code",
      "execution_count": null,
      "metadata": {
        "id": "MMUs_8RagfhW"
      },
      "outputs": [],
      "source": [
        "# Hyperparameters\n",
        "num_players = 2\n",
        "num_leapfrog_steps = 20\n",
        "n_samples = 2500\n",
        "stepsize = 0.01\n",
        "\n",
        "def log_posterior_c(zs):\n",
        "  # TODO\n",
        "  pass\n",
        "\n",
        "# TODO Run HMC and plot the posterior contour and the samples\n",
        "# samples_c = ...\n",
        "# plot"
      ]
    },
    {
      "cell_type": "markdown",
      "source": [
        "### Q 2.3.c [2 points]"
      ],
      "metadata": {
        "id": "O-jEWpb6HOym"
      }
    },
    {
      "cell_type": "markdown",
      "source": [
        "We now implement the simpler Langevin Monte Carlo algorithm with the Metropolis-Hastings filter. Recall that to sample from a posterior distribution $p(z|D)$ with LMC, starting from some intialization $z_0$, we iteratively compute the proposal\n",
        "$$z'_{t+1} = z_t + \\eta \\nabla \\log p(z|D) + \\sqrt{2 * \\eta}W,$$\n",
        "where $W \\sim N(0,I)$. Then, we accept $z'_{t+1}$ according to the Metrapolis-Hastings Algorithm, i.e. we define\n",
        "$$A = \\frac{p(z'_{t+1}|D)\\exp\\big(-\\Vert z_t - z'_{t+1} - \\eta * \\nabla \\log p(z'_{t+1}|D)\\Vert^2\\big)}{p(z_t|D)\\exp\\big(-\\Vert z'_{t+1} - z_t - \\eta * \\nabla \\log p(z_t|D)\\Vert^2\\big)}.$$\n",
        "We then generate $u \\sim \\mathrm{Unif}(0,1)$, and accept the proposal iff $u \\leq A$, in other words\n",
        "$$z_{t+1} = \\begin{cases}z'_{t+1} & \\text{if}\\, u \\leq A\\\\\n",
        "z_t & \\text{if}\\, u > A\\end{cases}.$$\n",
        "\n",
        "Complete the following implementation of LMC with the Metropolis-Hastings filter."
      ],
      "metadata": {
        "id": "59RPkz52HYyq"
      }
    },
    {
      "cell_type": "code",
      "source": [
        "def draw_samples_lmc(num_params, stepsize, n_samples, log_posterior):\n",
        "  zs = torch.zeros(num_params)\n",
        "\n",
        "  def grad_log_posterior(zs):\n",
        "    zs = zs.detach().clone()\n",
        "    zs.requires_grad_(True)\n",
        "    y = log_posterior(zs)\n",
        "    y.backward()\n",
        "    return zs.grad\n",
        "\n",
        "  sampleslist = []\n",
        "  for i in trange(0, n_samples):\n",
        "    sampleslist.append(zs)\n",
        "\n",
        "    # TODO: Perform LMC with Metrapolis Hastings step to get new zs\n",
        "    # Hint: You can reuse the metraplis_hastings method from before\n",
        "    # Hint: You can use grad_log_posterior\n",
        "\n",
        "\n",
        "  return torch.stack((sampleslist))"
      ],
      "metadata": {
        "id": "0qlJ-wsBHaHP"
      },
      "execution_count": null,
      "outputs": []
    },
    {
      "cell_type": "markdown",
      "source": [
        "Run the provided code to generate samples via LMC for approximating the joint posterior where we observe player A winning 5 games and player B winning 5 games."
      ],
      "metadata": {
        "id": "5pWss74RskL8"
      }
    },
    {
      "cell_type": "code",
      "source": [
        "num_players = 2\n",
        "n_samples = 2500\n",
        "stepsize = 0.01\n",
        "key=42\n",
        "\n",
        "samples_b_lmc = draw_samples_lmc(num_players, stepsize, n_samples, log_posterior_b)\n",
        "\n",
        "ax = plot_2d_fun(posterior_A_beat_B_5_times, \"Player A Skill\", \"Player B Skill\", samples_b_lmc)"
      ],
      "metadata": {
        "id": "Bfr4yrkneFIT"
      },
      "execution_count": null,
      "outputs": []
    },
    {
      "cell_type": "markdown",
      "source": [
        "### Q2.3.d [2 points]\n",
        "In the answer box below, provide one general advantage and one general disadvantage of LMC in comaprison with HMC."
      ],
      "metadata": {
        "id": "uYPL-7tlxlXY"
      }
    },
    {
      "cell_type": "markdown",
      "source": [
        "(enter your response here):"
      ],
      "metadata": {
        "id": "hYV5GKV5xtkc"
      }
    },
    {
      "cell_type": "markdown",
      "metadata": {
        "id": "fMWbazNsgfqa"
      },
      "source": [
        "## Q 2.4 Approximate inference conditioned on real data [26 points]\n",
        "\n",
        "The dataset contains data on 2500 games amongst 33 Premier League teams:\n",
        " - names is a 33 by 1 matrix, whose $i$’th entry is the name of player $i$.\n",
        " - games is a 2500 by 2 matrix of game outcomes, one row per game.\n",
        "\n",
        "The first column contains the indices of the team who won.\n",
        "The second column contains the indices of the team who lost. Note that what we refer to as team here is the same as a player in the previous parts; we assume each team has a skill following the TrueSkill model.\n",
        "\n",
        "It is based on the following kaggle dataset: https://www.kaggle.com/datasets/evangower/premier-league-matches-19922022\n",
        "\n",
        "\n"
      ]
    },
    {
      "cell_type": "code",
      "source": [
        "# Download the dataset\n",
        "!curl -L -o premier-league-matches-19922022.zip\\\n",
        "  https://www.kaggle.com/api/v1/datasets/download/evangower/premier-league-matches-19922022\n",
        "!unzip premier-league-matches-19922022.zip"
      ],
      "metadata": {
        "id": "6Zp6arRZzfVh"
      },
      "execution_count": null,
      "outputs": []
    },
    {
      "cell_type": "code",
      "source": [
        "from sklearn.preprocessing import LabelEncoder\n",
        "\n",
        "def load_games():\n",
        "    dataset = pd.read_csv(\"premier-league-matches.csv\")\n",
        "    mini_ds = dataset[dataset['FTR'] != 'D'][-2500:]\n",
        "    all_teams = pd.concat((mini_ds['Home'], mini_ds['Away'])).unique()\n",
        "    encoder = LabelEncoder()\n",
        "    encoder.fit(all_teams)\n",
        "    mini_ds['HomeId'] = encoder.transform(mini_ds['Home'])\n",
        "    mini_ds['AwayId'] = encoder.transform(mini_ds['Away'])\n",
        "\n",
        "    winner_ids = np.where(mini_ds['FTR'] == 'H', mini_ds['HomeId'], mini_ds['AwayId'])\n",
        "    loser_ids = np.where(mini_ds['FTR'] == 'H', mini_ds['AwayId'], mini_ds['HomeId'])\n",
        "    games = np.column_stack((winner_ids, loser_ids))\n",
        "    names = encoder.classes_\n",
        "\n",
        "    return games, names\n",
        "\n",
        "games, names = load_games()"
      ],
      "metadata": {
        "id": "9y9fzIAk0Mxy"
      },
      "execution_count": null,
      "outputs": []
    },
    {
      "cell_type": "markdown",
      "metadata": {
        "id": "GLj1WKtJ4OX2"
      },
      "source": [
        "### Q 2.4.a [5 points]\n",
        "\n",
        "Assuming all game outcomes are i.i.d. conditioned on all teams' skills, implement a function $\\texttt{log_games_likelihood}$ that takes a batch of team skills $\\texttt{zs}$ and a collection of observed games $\\texttt{games}$ and gives the total log-likelihoods for all those observations given all the skills.\n",
        "\n",
        "Hint: You should be able to write this function without using $\\texttt{for}$ loops, although you might want to start that way to make sure what you've written is correct.  If $A$ is an array of integers, you can index the corresponding entries of another matrix $B$ for every entry in $A$ by writing $\\texttt{B[A]}$."
      ]
    },
    {
      "cell_type": "code",
      "execution_count": null,
      "metadata": {
        "id": "wr-uuBE54Oem"
      },
      "outputs": [],
      "source": [
        "def log_games_likelihood(zs, games):\n",
        "  # games is an array of size (num_games x 2)\n",
        "  # zs is an array of size (num_players)\n",
        "  #\n",
        "  # Hint: With broadcasting, this function can be written\n",
        "  # with no for loops.\n",
        "  #\n",
        "  winning_player_ixs = games[:,0]\n",
        "  losing_player_ixs = games[:,1]\n",
        "  # winning_player_skills =     #TODO: Look up the skill of the winning player in each game.\n",
        "  # losing_player_skills =      #TODO: Look up the skills of the losing player in each game.\n",
        "  # log_likelihoods =           #TODO: Compute the log_likelihood of each game outcome.\n",
        "  # return                      #TODO: Combine the log_likelihood of independent events."
      ]
    },
    {
      "cell_type": "markdown",
      "metadata": {
        "id": "ZjSQ0_vC4Oll"
      },
      "source": [
        "  \n",
        "### Q 2.4.b [3 points]\n",
        "Implement a function $\\texttt{joint_log_density}$ which combines the log-prior and log-likelihood of the observations to give $p(z_1, z_2, \\dots, z_N, \\text{all game outcomes})$"
      ]
    },
    {
      "cell_type": "code",
      "execution_count": null,
      "metadata": {
        "id": "6ZD2XLUY4O0-"
      },
      "outputs": [],
      "source": [
        "def log_joint_probability(zs, games):\n",
        "  # Todo: Combine log_prior and log_likelihood\n",
        "  pass"
      ]
    },
    {
      "cell_type": "markdown",
      "metadata": {
        "id": "9coJHd8vggOi"
      },
      "source": [
        "### Q 2.4.c [5 points]\n",
        "Run Langevin Monte Carlo on the posterior over all skills conditioned on all the chess games from the dataset.  Run for 10000 samples."
      ]
    },
    {
      "cell_type": "code",
      "execution_count": null,
      "metadata": {
        "id": "hQUxnXaYgg8J"
      },
      "outputs": [],
      "source": [
        "# Hyperparameters\n",
        "num_players = len(names)\n",
        "n_samples = 10000\n",
        "stepsize = 0.01\n",
        "\n",
        "\n",
        "#Hint: you will need to use games\n",
        "def log_posterior(zs):\n",
        "  pass\n",
        "\n",
        "# TODO: all_games_samples = ..."
      ]
    },
    {
      "cell_type": "markdown",
      "metadata": {
        "id": "6GZ1BxGdK_KX"
      },
      "source": [
        "### Q 2.4.d [3 points]\n",
        "Based on your samples from the previous question, plot the approximate mean and variance of the marginal skill of each player, sorted by average skill. There's no need to include the names of the players.  Label the axes \"Player Rank\", and \"Player Skill\"."
      ]
    },
    {
      "cell_type": "code",
      "execution_count": null,
      "metadata": {
        "id": "jZuGCchtK_Ep"
      },
      "outputs": [],
      "source": [
        "# TODO\n",
        "# mean_skills = ...\n",
        "# var_skills = ...\n",
        "\n",
        "plt.xlabel(\"Player Rank\")\n",
        "plt.ylabel(\"Player Skill\")\n",
        "plt.errorbar(range(num_players), mean_skills, var_skills)"
      ]
    },
    {
      "cell_type": "markdown",
      "metadata": {
        "id": "itr6y6kxK--0"
      },
      "source": [
        "### Q 2.4.e [2 points]\n",
        "List the names of the 5 teams with the lowest mean skill and 5 teams with the highest mean skill according to your samples."
      ]
    },
    {
      "cell_type": "code",
      "execution_count": null,
      "metadata": {
        "id": "kQCFAsJ6K-5A"
      },
      "outputs": [],
      "source": [
        "print(\"Bottom 5\")\n",
        "# TODO: print the 5 players with the lowest mean skill\n",
        "\n",
        "\n",
        "print(\"Top 5\")\n",
        "# TODO: print the 5 players with the highest mean skill\n"
      ]
    },
    {
      "cell_type": "markdown",
      "metadata": {
        "id": "1nN8YuMqK-zB"
      },
      "source": [
        "### Q 2.4.f [2 points]\n",
        "Use a scatterplot to show your samples over the joint posterior over the skills of Southampton and Wolves.  Include the line of equal skill.  Hint: you can use `plt.scatter`.\n"
      ]
    },
    {
      "cell_type": "code",
      "execution_count": null,
      "metadata": {
        "id": "jKSLQNCRK-lB"
      },
      "outputs": [],
      "source": [
        "# TODO"
      ]
    },
    {
      "cell_type": "markdown",
      "metadata": {
        "id": "jloVQ2D_K-Vi"
      },
      "source": [
        "### Q 2.4.g [3 points]\n",
        "Using your samples, find the team that bas the eleventh highest mean skill. Print an unbiased estimate of the probability that the team with the twelfth highest mean skill is not worse than Southampton, again as estimated from your samples. Hint: Probabilities of Bernoulli random variables can be written as the expectation that the Bernoulli takes value 1, so you can use simple Monte Carlo. The final formula will be very simple."
      ]
    },
    {
      "cell_type": "code",
      "execution_count": null,
      "metadata": {
        "id": "g-i2YEeYBPkX"
      },
      "outputs": [],
      "source": [
        "# TODO"
      ]
    },
    {
      "cell_type": "markdown",
      "metadata": {
        "id": "odjXGVCUc8SF"
      },
      "source": [
        "### Q 2.4.h [3 points]\n",
        "\n",
        "For any two players $i$ and $j$, $p(z_i, z_j | \\text{all games})$ is always proportional to $p(z_i, z_j , \\text{all games})$, as a function of $z_i$ and $z_j$.\n",
        "\n",
        "In general, are the isocontours of $p(z_i, z_j | \\text{all games})$ the same as those of $p(z_i, z_j | \\text{games between $i$ and $j$})$?  That is, do the games between other players besides $i$ and $j$ provide information about the skill of players $i$ and $j$?  A simple yes or no suffices.\n",
        "\n",
        "Hint: One way to answer this is to draw the graphical model for three players, $i$, $j$, and $k$, and the results of games between all three pairs, and then examine conditional independencies.  If you do this, include the graphical models in your assignment."
      ]
    },
    {
      "cell_type": "markdown",
      "metadata": {
        "id": "9iMV0eKjgf9B"
      },
      "source": [
        "Your answer here:  Yes or no?"
      ]
    }
  ],
  "metadata": {
    "colab": {
      "collapsed_sections": [
        "y82CCb3pwLJT"
      ],
      "provenance": [],
      "include_colab_link": true
    },
    "kernelspec": {
      "display_name": "Python 3",
      "name": "python3"
    },
    "language_info": {
      "name": "python"
    }
  },
  "nbformat": 4,
  "nbformat_minor": 0
}
